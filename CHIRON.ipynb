{
 "cells": [
  {
   "cell_type": "markdown",
   "id": "b9d5f408-cc05-4677-9438-af849a81262c",
   "metadata": {
    "jp-MarkdownHeadingCollapsed": true
   },
   "source": [
    "## Data Ingestion and Preprocessing"
   ]
  },
  {
   "cell_type": "code",
   "execution_count": 3,
   "id": "3abcebe8-076f-413a-bf3c-c2ad0c6b94f1",
   "metadata": {},
   "outputs": [
    {
     "name": "stdout",
     "output_type": "stream",
     "text": [
      " Loaded medications.csv with shape (42989, 13)\n",
      " Loaded providers.csv with shape (5855, 12)\n",
      " Loaded payer_transitions.csv with shape (3801, 5)\n",
      " Loaded imaging_studies.csv with shape (855, 10)\n",
      " Loaded supplies.csv with shape (0, 6)\n",
      " Loaded payers.csv with shape (10, 21)\n",
      " Loaded allergies.csv with shape (597, 6)\n",
      " Loaded procedures.csv with shape (34981, 8)\n",
      " Loaded organizations.csv with shape (1119, 11)\n",
      " Loaded conditions.csv with shape (8376, 6)\n",
      " Loaded careplans.csv with shape (3483, 9)\n",
      " Loaded encounters.csv with shape (53346, 15)\n",
      " Loaded devices.csv with shape (78, 7)\n",
      " Loaded immunizations.csv with shape (15478, 6)\n",
      " Loaded patients.csv with shape (1171, 25)\n",
      " Loaded observations.csv with shape (299697, 8)\n",
      "\n",
      "Summary of loaded tables:\n",
      "medications: (42989, 13)\n",
      "providers: (5855, 12)\n",
      "payer_transitions: (3801, 5)\n",
      "imaging_studies: (855, 10)\n",
      "supplies: (0, 6)\n",
      "payers: (10, 21)\n",
      "allergies: (597, 6)\n",
      "procedures: (34981, 8)\n",
      "organizations: (1119, 11)\n",
      "conditions: (8376, 6)\n",
      "careplans: (3483, 9)\n",
      "encounters: (53346, 15)\n",
      "devices: (78, 7)\n",
      "immunizations: (15478, 6)\n",
      "patients: (1171, 25)\n",
      "observations: (299697, 8)\n"
     ]
    }
   ],
   "source": [
    "import os\n",
    "import pandas as pd\n",
    "\n",
    "def load_synthea_csvs(data_dir):\n",
    "    \"\"\"\n",
    "    Loads all CSV files in the given directory into a dictionary of DataFrames.\n",
    "    \n",
    "    Parameters:\n",
    "        data_dir (str): Path to the directory containing the Synthea CSV files.\n",
    "\n",
    "    Returns:\n",
    "        dict: A dictionary where keys are CSV filenames (without .csv) and values are DataFrames.\n",
    "    \"\"\"\n",
    "    csv_data = {}\n",
    "    if not os.path.exists(data_dir):\n",
    "        raise FileNotFoundError(f\"Directory '{data_dir}' does not exist.\")\n",
    "\n",
    "    for file in os.listdir(data_dir):\n",
    "        if file.endswith(\".csv\"):\n",
    "            file_path = os.path.join(data_dir, file)\n",
    "            df_name = file.replace(\".csv\", \"\").lower()\n",
    "            try:\n",
    "                df = pd.read_csv(file_path)\n",
    "                csv_data[df_name] = df\n",
    "                print(f\" Loaded {file} with shape {df.shape}\")\n",
    "            except Exception as e:\n",
    "                print(f\"Error loading {file}: {e}\")\n",
    "\n",
    "    if not csv_data:\n",
    "        raise RuntimeError(\"No CSV files were loaded. Check the directory path.\")\n",
    "        \n",
    "    return csv_data\n",
    "\n",
    "# Example usage:\n",
    "if __name__ == \"__main__\":\n",
    "    synthea_path = \"CSV/\"   # Instead of data/synthea_csv/\n",
    "    dataframes = load_synthea_csvs(synthea_path)\n",
    "\n",
    "    # Print the keys and basic info\n",
    "    print(\"\\nSummary of loaded tables:\")\n",
    "    for name, df in dataframes.items():\n",
    "        print(f\"{name}: {df.shape}\")\n"
   ]
  },
  {
   "cell_type": "markdown",
   "id": "eca69636-ec51-4e4a-85b8-c843a3646c7e",
   "metadata": {
    "jp-MarkdownHeadingCollapsed": true
   },
   "source": [
    "## Sequence Construction"
   ]
  },
  {
   "cell_type": "code",
   "execution_count": 5,
   "id": "916ba2a8-f71b-41d7-bca9-a73c8d012052",
   "metadata": {},
   "outputs": [
    {
     "name": "stdout",
     "output_type": "stream",
     "text": [
      "1d604da9... → ['AGE_30', 'SEX_M', 'DIAG_40055000', 'OBS_QALY', 'OBS_DALY', 'OBS_QOLS', 'OBS_QALY', 'OBS_DALY', 'OBS_QOLS', 'OBS_8302-2']\n",
      "034e9e3b... → ['AGE_40', 'SEX_M', 'OBS_QALY', 'OBS_DALY', 'OBS_QOLS', 'OBS_QALY', 'OBS_DALY', 'OBS_QOLS', 'OBS_8302-2', 'OBS_72514-3']\n",
      "10339b10... → ['AGE_30', 'SEX_M', 'OBS_QALY', 'OBS_DALY', 'OBS_QOLS', 'OBS_8302-2', 'OBS_72514-3', 'OBS_29463-7', 'OBS_39156-5', 'OBS_59576-9']\n"
     ]
    }
   ],
   "source": [
    "from collections import defaultdict\n",
    "import pandas as pd\n",
    "import numpy as np\n",
    "\n",
    "def build_patient_sequences(dataframes, max_events=100):\n",
    "    \"\"\"\n",
    "    Build time-ordered event sequences per patient from Synthea data.\n",
    "\n",
    "    Args:\n",
    "        dataframes (dict): Dictionary of loaded Synthea CSVs.\n",
    "        max_events (int): Max events per patient (truncate if longer).\n",
    "\n",
    "    Returns:\n",
    "        dict: patient_id -> list of event tokens\n",
    "    \"\"\"\n",
    "    sequences = defaultdict(list)\n",
    "\n",
    "    def safe_parse_date(date):\n",
    "        try:\n",
    "            ts = pd.to_datetime(date)\n",
    "            return ts.tz_localize(None) if ts.tzinfo else ts\n",
    "        except:\n",
    "            return pd.NaT\n",
    "\n",
    "\n",
    "\n",
    "    # --- 1. Patients: Age & Gender ---\n",
    "    patients_df = dataframes[\"patients\"]\n",
    "    now = pd.Timestamp(\"2025-01-01\")  # arbitrary reference point\n",
    "    for _, row in patients_df.iterrows():\n",
    "        pid = row[\"Id\"]\n",
    "        age = now.year - pd.to_datetime(row[\"BIRTHDATE\"]).year\n",
    "        sequences[pid].append(f\"AGE_{age//10*10}\")  # Bucket to 10s\n",
    "        sequences[pid].append(f\"SEX_{row['GENDER'].upper()}\")\n",
    "\n",
    "    # --- 2. Conditions ---\n",
    "    for _, row in dataframes[\"conditions\"].iterrows():\n",
    "        pid = row[\"PATIENT\"]\n",
    "        date = safe_parse_date(row[\"START\"])\n",
    "        code = f\"DIAG_{row['CODE']}\"\n",
    "        sequences[pid].append((date, code))\n",
    "\n",
    "    # --- 3. Medications ---\n",
    "    for _, row in dataframes[\"medications\"].iterrows():\n",
    "        pid = row[\"PATIENT\"]\n",
    "        date = safe_parse_date(row[\"START\"])\n",
    "        code = f\"MED_{row['CODE']}\"\n",
    "        sequences[pid].append((date, code))\n",
    "\n",
    "    # --- 4. Observations (Labs/Vitals) ---\n",
    "    for _, row in dataframes[\"observations\"].iterrows():\n",
    "        pid = row[\"PATIENT\"]\n",
    "        date = safe_parse_date(row[\"DATE\"])\n",
    "        code = f\"OBS_{row['CODE']}\"\n",
    "        sequences[pid].append((date, code))\n",
    "\n",
    "    # --- 5. Procedures ---\n",
    "    for _, row in dataframes[\"procedures\"].iterrows():\n",
    "        pid = row[\"PATIENT\"]\n",
    "        date = safe_parse_date(row[\"DATE\"])\n",
    "        code = f\"PROC_{row['CODE']}\"\n",
    "        sequences[pid].append((date, code))\n",
    "\n",
    "    # --- 6. Sort + Flatten ---\n",
    "    cleaned_sequences = {}\n",
    "    for pid, events in sequences.items():\n",
    "        # Split static features vs timestamped events\n",
    "        static = [e for e in events if not isinstance(e, tuple)]\n",
    "        dynamic = sorted([e for e in events if isinstance(e, tuple) and pd.notna(e[0])], key=lambda x: x[0])\n",
    "        tokens = static + [e[1] for e in dynamic]\n",
    "        cleaned_sequences[pid] = tokens[:max_events]\n",
    "\n",
    "    return cleaned_sequences\n",
    "\n",
    "#  Run it now:\n",
    "patient_sequences = build_patient_sequences(dataframes)\n",
    "\n",
    "#  Preview\n",
    "for pid, seq in list(patient_sequences.items())[:3]:\n",
    "    print(f\"{pid[:8]}... → {seq[:10]}\")\n"
   ]
  },
  {
   "cell_type": "markdown",
   "id": "2e945a3f-7ad1-49c5-841e-fa9c5127c723",
   "metadata": {
    "jp-MarkdownHeadingCollapsed": true
   },
   "source": [
    "## Tokenization"
   ]
  },
  {
   "cell_type": "code",
   "execution_count": 7,
   "id": "b9df46ba-93ca-4108-9924-87fa6b9c608c",
   "metadata": {},
   "outputs": [
    {
     "name": "stdout",
     "output_type": "stream",
     "text": [
      "1d604da9... → [6, 487, 74, 362, 361, 363, 362, 361, 363, 346]\n",
      "034e9e3b... → [7, 487, 362, 361, 363, 362, 361, 363, 346, 337]\n",
      "10339b10... → [6, 487, 362, 361, 363, 346, 337, 273, 287, 308]\n"
     ]
    }
   ],
   "source": [
    "import json\n",
    "from collections import defaultdict\n",
    "\n",
    "def build_tokenizer(sequences, pad_token='PAD'):\n",
    "    \"\"\"\n",
    "    Build token2id and id2token vocab from patient sequences.\n",
    "\n",
    "    Args:\n",
    "        sequences (dict): patient_id → list of tokens\n",
    "        pad_token (str): special token for padding\n",
    "\n",
    "    Returns:\n",
    "        token2id (dict), id2token (dict)\n",
    "    \"\"\"\n",
    "    all_tokens = set()\n",
    "    for seq in sequences.values():\n",
    "        all_tokens.update(seq)\n",
    "\n",
    "    token2id = {pad_token: 0}  # reserve 0 for padding\n",
    "    for i, token in enumerate(sorted(all_tokens), start=1):\n",
    "        token2id[token] = i\n",
    "\n",
    "    id2token = {v: k for k, v in token2id.items()}\n",
    "    return token2id, id2token\n",
    "\n",
    "\n",
    "def tokenize_sequences(sequences, token2id, max_len=100):\n",
    "    \"\"\"\n",
    "    Convert token sequences to lists of token IDs with optional padding.\n",
    "\n",
    "    Args:\n",
    "        sequences (dict): patient_id → list of tokens\n",
    "        token2id (dict): vocabulary map\n",
    "        max_len (int): max sequence length (pad or truncate to this)\n",
    "\n",
    "    Returns:\n",
    "        dict: patient_id → list of token IDs\n",
    "    \"\"\"\n",
    "    tokenized = {}\n",
    "    for pid, seq in sequences.items():\n",
    "        ids = [token2id[token] for token in seq if token in token2id]\n",
    "        ids = ids[:max_len]  # truncate\n",
    "        ids += [0] * (max_len - len(ids))  # pad\n",
    "        tokenized[pid] = ids\n",
    "    return tokenized\n",
    "\n",
    "\n",
    "def save_vocab(token2id, out_path=\"token2id.json\"):\n",
    "    with open(out_path, \"w\") as f:\n",
    "        json.dump(token2id, f, indent=2)\n",
    "\n",
    "\n",
    "#  Example usage:\n",
    "token2id, id2token = build_tokenizer(patient_sequences)\n",
    "tokenized_sequences = tokenize_sequences(patient_sequences, token2id, max_len=100)\n",
    "\n",
    "#  Save vocab\n",
    "save_vocab(token2id)\n",
    "\n",
    "#  Preview\n",
    "for pid, ids in list(tokenized_sequences.items())[:3]:\n",
    "    print(f\"{pid[:8]}... → {ids[:10]}\")\n"
   ]
  },
  {
   "cell_type": "markdown",
   "id": "42634ee0-a246-4bd5-a60c-f174d8873253",
   "metadata": {
    "jp-MarkdownHeadingCollapsed": true
   },
   "source": [
    "## Dataset Preparation"
   ]
  },
  {
   "cell_type": "code",
   "execution_count": 9,
   "id": "d74abd63-7451-41eb-9d2a-f06d1d3ee1dc",
   "metadata": {},
   "outputs": [],
   "source": [
    "import torch\n",
    "from torch.utils.data import Dataset\n",
    "\n",
    "class ChironDataset(Dataset):\n",
    "    def __init__(self, tokenized_sequences):\n",
    "        \"\"\"\n",
    "        Args:\n",
    "            tokenized_sequences (dict): patient_id → list of token IDs\n",
    "        \"\"\"\n",
    "        self.samples = list(tokenized_sequences.values())\n",
    "\n",
    "    def __len__(self):\n",
    "        return len(self.samples)\n",
    "\n",
    "    def __getitem__(self, idx):\n",
    "        token_ids = self.samples[idx]\n",
    "        input_ids = torch.tensor(token_ids[:-1], dtype=torch.long)\n",
    "        target_ids = torch.tensor(token_ids[1:], dtype=torch.long)\n",
    "        return input_ids, target_ids\n"
   ]
  },
  {
   "cell_type": "code",
   "execution_count": 11,
   "id": "a5fffcd5-25a0-4c20-a52f-e0e6e792619a",
   "metadata": {},
   "outputs": [
    {
     "name": "stdout",
     "output_type": "stream",
     "text": [
      "Input IDs:  tensor([  6, 487,  74, 362, 361, 363, 362, 361, 363, 346])\n",
      "Target IDs: tensor([487,  74, 362, 361, 363, 362, 361, 363, 346, 337])\n"
     ]
    }
   ],
   "source": [
    "from torch.utils.data import DataLoader\n",
    "\n",
    "#  Create dataset\n",
    "dataset = ChironDataset(tokenized_sequences)\n",
    "\n",
    "#  Test sample\n",
    "sample_input, sample_target = dataset[0]\n",
    "print(\"Input IDs: \", sample_input[:10])\n",
    "print(\"Target IDs:\", sample_target[:10])\n",
    "\n",
    "# DataLoader for training\n",
    "dataloader = DataLoader(dataset, batch_size=16, shuffle=True)\n"
   ]
  },
  {
   "cell_type": "markdown",
   "id": "a1085229-74fa-4e36-b08f-f3991ec0b619",
   "metadata": {
    "jp-MarkdownHeadingCollapsed": true
   },
   "source": [
    "## Model "
   ]
  },
  {
   "cell_type": "code",
   "execution_count": 13,
   "id": "ee3b6b78-06a9-476f-81e8-3a9d36f02c77",
   "metadata": {},
   "outputs": [],
   "source": [
    "import torch\n",
    "import torch.nn as nn\n",
    "\n",
    "class ChironTransformer(nn.Module):\n",
    "    def __init__(self, vocab_size, d_model=256, n_heads=4, num_layers=4, dropout=0.1, max_len=100):\n",
    "        super().__init__()\n",
    "        self.token_embed = nn.Embedding(vocab_size, d_model)\n",
    "        self.pos_embed = nn.Embedding(max_len, d_model)\n",
    "\n",
    "        encoder_layer = nn.TransformerEncoderLayer(\n",
    "            d_model=d_model,\n",
    "            nhead=n_heads,\n",
    "            dim_feedforward=4 * d_model,\n",
    "            dropout=dropout,\n",
    "            batch_first=True\n",
    "        )\n",
    "        self.transformer = nn.TransformerEncoder(encoder_layer, num_layers=num_layers)\n",
    "\n",
    "        self.output_proj = nn.Linear(d_model, vocab_size)\n",
    "        self.max_len = max_len\n",
    "\n",
    "    def generate_causal_mask(self, size, device):\n",
    "        # Causal mask with shape (seq_len, seq_len)\n",
    "        mask = torch.triu(torch.ones(size, size, device=device) * float('-inf'), diagonal=1)\n",
    "        return mask\n",
    "\n",
    "    def forward(self, input_ids):\n",
    "        batch_size, seq_len = input_ids.shape\n",
    "        positions = torch.arange(seq_len, device=input_ids.device).unsqueeze(0).expand(batch_size, seq_len)\n",
    "\n",
    "        x = self.token_embed(input_ids) + self.pos_embed(positions)\n",
    "\n",
    "        causal_mask = self.generate_causal_mask(seq_len, input_ids.device)\n",
    "        logits = self.transformer(x, mask=causal_mask)\n",
    "        return self.output_proj(logits)\n"
   ]
  },
  {
   "cell_type": "code",
   "execution_count": 15,
   "id": "4ae586d5-7c6a-4de0-8650-c9146186df97",
   "metadata": {},
   "outputs": [
    {
     "name": "stdout",
     "output_type": "stream",
     "text": [
      "Logits shape: torch.Size([1, 99, 488])\n"
     ]
    }
   ],
   "source": [
    "vocab_size = len(token2id)\n",
    "model = ChironTransformer(vocab_size)\n",
    "\n",
    "input_ids, target_ids = dataset[0]\n",
    "logits = model(input_ids.unsqueeze(0))  # batch size 1\n",
    "print(\"Logits shape:\", logits.shape)  # ✅ should be (1, seq_len, vocab_size)\n"
   ]
  },
  {
   "cell_type": "markdown",
   "id": "82493d89-a1e5-461e-b897-474e4ea79acf",
   "metadata": {
    "jp-MarkdownHeadingCollapsed": true
   },
   "source": [
    "## Full Epoch Training"
   ]
  },
  {
   "cell_type": "code",
   "execution_count": 17,
   "id": "1b68e01f-19d5-4cea-8430-b9fc2ca447a0",
   "metadata": {},
   "outputs": [],
   "source": [
    "import torch\n",
    "from torch.utils.data import DataLoader\n",
    "import torch.nn as nn\n",
    "import torch.optim as optim\n",
    "\n",
    "def train_model(model, dataset, device, epochs=5, batch_size=16, save_path=\"chiron_model.pt\"):\n",
    "    model.to(device)\n",
    "    model.train()\n",
    "\n",
    "    dataloader = DataLoader(dataset, batch_size=batch_size, shuffle=True)\n",
    "    optimizer = optim.Adam(model.parameters(), lr=1e-3)\n",
    "    criterion = nn.CrossEntropyLoss()\n",
    "\n",
    "    for epoch in range(1, epochs + 1):\n",
    "        total_loss = 0\n",
    "        total_tokens = 0\n",
    "        correct = 0\n",
    "\n",
    "        for input_ids, target_ids in dataloader:\n",
    "            input_ids = input_ids.to(device)\n",
    "            target_ids = target_ids.to(device)\n",
    "\n",
    "            optimizer.zero_grad()\n",
    "            logits = model(input_ids)\n",
    "\n",
    "            logits = logits.view(-1, logits.shape[-1])\n",
    "            target_ids = target_ids.view(-1)\n",
    "\n",
    "            loss = criterion(logits, target_ids)\n",
    "            loss.backward()\n",
    "            optimizer.step()\n",
    "\n",
    "            preds = torch.argmax(logits, dim=1)\n",
    "            correct += (preds == target_ids).sum().item()\n",
    "            total_tokens += target_ids.numel()\n",
    "            total_loss += loss.item()\n",
    "\n",
    "        avg_loss = total_loss / len(dataloader)\n",
    "        accuracy = 100 * correct / total_tokens\n",
    "        print(f\" Epoch {epoch}/{epochs} — Loss: {avg_loss:.4f} | Token Accuracy: {accuracy:.2f}%\")\n",
    "\n",
    "    # Save the final model\n",
    "    torch.save(model.state_dict(), save_path)\n",
    "    print(f\"\\n Model saved to {save_path}\")\n"
   ]
  },
  {
   "cell_type": "code",
   "execution_count": 19,
   "id": "188a308d-af67-4d91-8eb9-075d038b9a5b",
   "metadata": {},
   "outputs": [
    {
     "name": "stdout",
     "output_type": "stream",
     "text": [
      " Epoch 1/7 — Loss: 1.4852 | Token Accuracy: 72.41%\n",
      " Epoch 2/7 — Loss: 0.6753 | Token Accuracy: 84.50%\n",
      " Epoch 3/7 — Loss: 0.5528 | Token Accuracy: 86.24%\n",
      " Epoch 4/7 — Loss: 0.4951 | Token Accuracy: 87.25%\n",
      " Epoch 5/7 — Loss: 0.4462 | Token Accuracy: 87.99%\n",
      " Epoch 6/7 — Loss: 0.4134 | Token Accuracy: 88.68%\n",
      " Epoch 7/7 — Loss: 0.4004 | Token Accuracy: 88.92%\n",
      "\n",
      " Model saved to chiron_model.pt\n"
     ]
    }
   ],
   "source": [
    "vocab_size = len(token2id)\n",
    "model = ChironTransformer(vocab_size)\n",
    "\n",
    "device = torch.device(\"mps\" if torch.backends.mps.is_available() else \"cpu\")\n",
    "train_model(model, dataset, device, epochs=7, batch_size=16)\n"
   ]
  },
  {
   "cell_type": "markdown",
   "id": "71c141c3-a85b-48f9-a30c-93df9b407534",
   "metadata": {
    "jp-MarkdownHeadingCollapsed": true
   },
   "source": [
    "## Sequence Generation"
   ]
  },
  {
   "cell_type": "code",
   "execution_count": 47,
   "id": "7b7c18dc-58f4-4752-8fd7-06dd41a5588d",
   "metadata": {},
   "outputs": [],
   "source": [
    "def generate_sequence(model, token2id, id2token, prompt_tokens, max_gen=20, temperature=1.0):\n",
    "    model.eval()\n",
    "    device = next(model.parameters()).device\n",
    "\n",
    "    input_ids = [token2id.get(tok, token2id[\"PAD\"]) for tok in prompt_tokens]\n",
    "    input_tensor = torch.tensor(input_ids, dtype=torch.long, device=device).unsqueeze(0)\n",
    "\n",
    "    for _ in range(max_gen):\n",
    "        with torch.no_grad():\n",
    "            logits = model(input_tensor)  # (1, seq_len, vocab)\n",
    "            next_token_logits = logits[0, -1]  # Last time step\n",
    "\n",
    "            # Apply temperature and suppress PAD token\n",
    "            probs = torch.softmax(next_token_logits / temperature, dim=0)\n",
    "            probs[token2id['PAD']] = 0  # prevent PAD from being chosen\n",
    "            probs = probs / probs.sum()  # renormalize\n",
    "\n",
    "            # Sample from distribution\n",
    "            next_token_id = torch.multinomial(probs, num_samples=1).item()\n",
    "\n",
    "        # Append prediction\n",
    "        input_tensor = torch.cat(\n",
    "            [input_tensor, torch.tensor([[next_token_id]], device=device)], dim=1\n",
    "        )\n",
    "\n",
    "        # Optional: break if some end token is hit\n",
    "        if id2token[next_token_id].startswith(\"END\"):\n",
    "            break\n",
    "\n",
    "    # Convert entire sequence back to tokens\n",
    "    gen_ids = input_tensor[0].tolist()\n",
    "    return [id2token[i] for i in gen_ids]\n"
   ]
  },
  {
   "cell_type": "code",
   "execution_count": 49,
   "id": "b208dc3d-ce4f-477d-8d64-6edf9133424c",
   "metadata": {},
   "outputs": [
    {
     "name": "stdout",
     "output_type": "stream",
     "text": [
      " Prompt: ['AGE_45', 'SEX_F', 'DIAG_E11']\n",
      " Generated: ['MED_1870230', 'DIAG_162864005', 'OBS_8302-2']\n"
     ]
    }
   ],
   "source": [
    "prompt = [\"AGE_45\", \"SEX_F\", \"DIAG_E11\"]\n",
    "output_tokens = generate_sequence(model, token2id, id2token, prompt, max_gen=3)\n",
    "\n",
    "print(\" Prompt:\", prompt)\n",
    "print(\" Generated:\", output_tokens[len(prompt):])\n"
   ]
  },
  {
   "cell_type": "code",
   "execution_count": 51,
   "id": "ecfe8367-c335-47aa-b85a-018b777f9011",
   "metadata": {},
   "outputs": [],
   "source": [
    "from tqdm import tqdm\n",
    "import pandas as pd\n",
    "\n",
    "def generate_batch_sequences(model, token2id, id2token, prompts, max_gen=10):\n",
    "    \"\"\"\n",
    "    Generates sequences for a list of patient prompts.\n",
    "    Returns a dictionary of patient_id → generated_tokens.\n",
    "    \"\"\"\n",
    "    results = {}\n",
    "\n",
    "    for i, prompt in tqdm(enumerate(prompts), total=len(prompts)):\n",
    "        generated = generate_sequence(model, token2id, id2token, prompt, max_gen=max_gen)\n",
    "        results[f\"patient_{i:04d}\"] = {\n",
    "            \"prompt\": prompt,\n",
    "            \"generated\": generated[len(prompt):]  # skip prompt part\n",
    "        }\n",
    "\n",
    "    return results\n"
   ]
  },
  {
   "cell_type": "code",
   "execution_count": 53,
   "id": "910968f9-49a8-456e-83c3-74695f718f85",
   "metadata": {},
   "outputs": [],
   "source": [
    "prompts = [\n",
    "    [\"AGE_30\", \"SEX_M\", \"DIAG_40055000\"],\n",
    "    [\"AGE_45\", \"SEX_F\", \"DIAG_E11\"],\n",
    "    [\"AGE_60\", \"SEX_M\", \"DIAG_109989006\"],\n",
    "    # Add more here or use random sampling\n",
    "]\n"
   ]
  },
  {
   "cell_type": "code",
   "execution_count": 55,
   "id": "629850df-016e-44b0-a0a4-edebabb610cb",
   "metadata": {},
   "outputs": [],
   "source": [
    "import random\n",
    "\n",
    "ages = [f\"AGE_{random.randint(18, 85)}\" for _ in range(1000)]\n",
    "sexes = [random.choice([\"SEX_M\", \"SEX_F\"]) for _ in range(1000)]\n",
    "diagnoses = [random.choice([\"DIAG_E11\", \"DIAG_40055000\", \"DIAG_109989006\"]) for _ in range(1000)]\n",
    "\n",
    "prompts = [[ages[i], sexes[i], diagnoses[i]] for i in range(1000)]\n"
   ]
  },
  {
   "cell_type": "code",
   "execution_count": 57,
   "id": "72ecec40-b89d-411b-ad20-49b7310518b3",
   "metadata": {},
   "outputs": [],
   "source": [
    "def save_results_to_csv(results, filename=\"generated_patients.csv\"):\n",
    "    rows = []\n",
    "\n",
    "    for pid, data in results.items():\n",
    "        rows.append({\n",
    "            \"Patient ID\": pid,\n",
    "            \"Prompt\": \", \".join(data[\"prompt\"]),\n",
    "            \"Generated\": \", \".join(data[\"generated\"])\n",
    "        })\n",
    "\n",
    "    df = pd.DataFrame(rows)\n",
    "    df.to_csv(filename, index=False)\n"
   ]
  },
  {
   "cell_type": "code",
   "execution_count": 59,
   "id": "40dddf54-823b-47e0-b9ed-74f6d6f8617a",
   "metadata": {},
   "outputs": [
    {
     "name": "stderr",
     "output_type": "stream",
     "text": [
      "100%|███████████████████████████████████████████████████████████████| 1000/1000 [00:58<00:00, 17.03it/s]\n"
     ]
    }
   ],
   "source": [
    "# Generate sequences\n",
    "results = generate_batch_sequences(model, token2id, id2token, prompts, max_gen=10)\n",
    "\n",
    "# Save to CSV\n",
    "save_results_to_csv(results)\n"
   ]
  },
  {
   "cell_type": "markdown",
   "id": "e69cb41b-dc24-4443-b22c-39cd075025e4",
   "metadata": {
    "jp-MarkdownHeadingCollapsed": true
   },
   "source": [
    "## Metric-Based Evaluation"
   ]
  },
  {
   "cell_type": "code",
   "execution_count": 43,
   "id": "120f461a-a27b-4361-a145-49e4d2359971",
   "metadata": {},
   "outputs": [],
   "source": [
    "import torch\n",
    "from nltk.translate.bleu_score import sentence_bleu, SmoothingFunction\n",
    "from collections import Counter\n",
    "import numpy as np\n",
    "\n",
    "def compute_token_accuracy(preds, targets):\n",
    "    total = sum(len(t) for t in targets)\n",
    "    correct = sum((p == t) for pred, target in zip(preds, targets)\n",
    "                  for p, t in zip(pred, target))\n",
    "    return 100 * correct / total\n",
    "\n",
    "def compute_bleu_score(preds, targets):\n",
    "    smoothie = SmoothingFunction().method1\n",
    "    scores = []\n",
    "    for pred, target in zip(preds, targets):\n",
    "        score = sentence_bleu([target], pred, smoothing_function=smoothie)\n",
    "        scores.append(score)\n",
    "    return np.mean(scores)\n",
    "\n",
    "def compute_distinct_n(sequences, n=2):\n",
    "    all_ngrams = Counter()\n",
    "    for seq in sequences:\n",
    "        ngrams = zip(*[seq[i:] for i in range(n)])\n",
    "        all_ngrams.update(ngrams)\n",
    "    distinct = len(all_ngrams) / max(1, sum(all_ngrams.values()))\n",
    "    return distinct\n"
   ]
  },
  {
   "cell_type": "code",
   "execution_count": 49,
   "id": "edc5520e-dfa8-4084-b9b7-5fa5d9bc8b39",
   "metadata": {},
   "outputs": [],
   "source": [
    "# Setup: Grab N samples from dataset\n",
    "N = 10  # or 20 if you want more\n",
    "generated_seqs = []\n",
    "target_seqs = []\n",
    "\n",
    "model.eval()\n",
    "\n",
    "for i in range(N):\n",
    "    input_ids, target_ids = dataset[i]  # From ChironDataset\n",
    "\n",
    "    # Prepare input and target\n",
    "    prompt_ids = input_ids[:3]  # Use first 3 tokens as prompt\n",
    "    true_tokens = target_ids.tolist()\n",
    "\n",
    "    prompt_tokens = [id2token[i.item()] for i in prompt_ids]\n",
    "\n",
    "    # Generate prediction\n",
    "    gen_tokens = generate_sequence(model, token2id, id2token, prompt_tokens, max_gen=len(true_tokens))\n",
    "\n",
    "    # Align to length\n",
    "    generated_seqs.append(gen_tokens[len(prompt_tokens):len(prompt_tokens)+len(true_tokens)])\n",
    "    target_seqs.append([id2token[i] for i in true_tokens])\n"
   ]
  },
  {
   "cell_type": "code",
   "execution_count": 51,
   "id": "d2a68659-e76f-43ff-8126-2a8b1723caca",
   "metadata": {},
   "outputs": [
    {
     "name": "stdout",
     "output_type": "stream",
     "text": [
      " Token Accuracy: 4.65%\n",
      " BLEU Score: 0.6673\n",
      " Distinct-2 Diversity: 0.1143\n"
     ]
    }
   ],
   "source": [
    "token_acc = compute_token_accuracy(generated_seqs, target_seqs)\n",
    "bleu = compute_bleu_score(generated_seqs, target_seqs)\n",
    "diversity = compute_distinct_n(generated_seqs, n=2)\n",
    "\n",
    "print(f\" Token Accuracy: {token_acc:.2f}%\")\n",
    "print(f\" BLEU Score: {bleu:.4f}\")\n",
    "print(f\" Distinct-2 Diversity: {diversity:.4f}\")\n"
   ]
  },
  {
   "cell_type": "code",
   "execution_count": 61,
   "id": "95da26a0-9054-48b4-bba3-f7540992034b",
   "metadata": {},
   "outputs": [
    {
     "data": {
      "image/png": "[encoded data removed]",
      "text/plain": [
       "<Figure size 640x480 with 1 Axes>"
      ]
     },
     "metadata": {},
     "output_type": "display_data"
    }
   ],
   "source": [
    "import matplotlib.pyplot as plt\n",
    "\n",
    "epochs = [1, 2, 3, 4, 5]\n",
    "train_loss = [1.47, 0.68, 0.56, 0.49, 0.44]  # Example: use your recorded losses\n",
    "\n",
    "plt.plot(epochs, train_loss, marker='o')\n",
    "plt.title('Training Loss Over Epochs')\n",
    "plt.xlabel('Epoch')\n",
    "plt.ylabel('Loss')\n",
    "plt.grid(True)\n",
    "plt.show()\n"
   ]
  },
  {
   "cell_type": "code",
   "execution_count": 63,
   "id": "036f02f5-0a8e-4a0a-a414-cfe3e1cf33e0",
   "metadata": {},
   "outputs": [
    {
     "data": {
      "image/png": "[encoded data removed]",
      "text/plain": [
       "<Figure size 640x480 with 1 Axes>"
      ]
     },
     "metadata": {},
     "output_type": "display_data"
    }
   ],
   "source": [
    "epochs = [1, 2, 3, 4, 5]\n",
    "token_accuracy = [72.5, 84.2, 86.1, 87.3, 87.9]  # Example: your token accuracies %\n",
    "\n",
    "plt.plot(epochs, token_accuracy, marker='s', color='green')\n",
    "plt.title('Token Accuracy Over Epochs')\n",
    "plt.xlabel('Epoch')\n",
    "plt.ylabel('Token Accuracy (%)')\n",
    "plt.grid(True)\n",
    "plt.show()\n"
   ]
  },
  {
   "cell_type": "code",
   "execution_count": 65,
   "id": "6727eedd-ff58-4b02-923a-5b39c8712f4b",
   "metadata": {},
   "outputs": [
    {
     "data": {
      "image/png": "[encoded data removed]",
      "text/plain": [
       "<Figure size 640x480 with 1 Axes>"
      ]
     },
     "metadata": {},
     "output_type": "display_data"
    }
   ],
   "source": [
    "epochs = [1, 2, 3, 4, 5]\n",
    "distinct_2 = [0.10, 0.12, 0.14, 0.15, 0.16]  # Example: your Distinct-2 values\n",
    "\n",
    "plt.plot(epochs, distinct_2, marker='^', color='purple')\n",
    "plt.title('Sequence Diversity (Distinct-2) Over Epochs')\n",
    "plt.xlabel('Epoch')\n",
    "plt.ylabel('Distinct-2 Score')\n",
    "plt.grid(True)\n",
    "plt.show()\n"
   ]
  },
  {
   "cell_type": "code",
   "execution_count": null,
   "id": "5333c155-d0ae-4638-954b-dabe73aca229",
   "metadata": {},
   "outputs": [],
   "source": []
  }
 ],
 "metadata": {
  "kernelspec": {
   "display_name": "Python [conda env:base] *",
   "language": "python",
   "name": "conda-base-py"
  },
  "language_info": {
   "codemirror_mode": {
    "name": "ipython",
    "version": 3
   },
   "file_extension": ".py",
   "mimetype": "text/x-python",
   "name": "python",
   "nbconvert_exporter": "python",
   "pygments_lexer": "ipython3",
   "version": "3.12.7"
  }
 },
 "nbformat": 4,
 "nbformat_minor": 5
}
